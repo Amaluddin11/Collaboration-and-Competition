{
 "cells": [
  {
   "cell_type": "markdown",
   "metadata": {},
   "source": [
    "# Collaboration and Competition\n",
    "\n",
    "---\n",
    "\n",
    "You are welcome to use this coding environment to train your agent for the project.  Follow the instructions below to get started!\n",
    "\n",
    "### 1. Start the Environment\n",
    "\n",
    "Run the next code cell to install a few packages.  This line will take a few minutes to run!"
   ]
  },
  {
   "cell_type": "code",
   "execution_count": 1,
   "metadata": {},
   "outputs": [
    {
     "name": "stdout",
     "output_type": "stream",
     "text": [
      "\u001b[31mtensorflow 1.7.1 has requirement numpy>=1.13.3, but you'll have numpy 1.12.1 which is incompatible.\u001b[0m\r\n",
      "\u001b[31mipython 6.5.0 has requirement prompt-toolkit<2.0.0,>=1.0.15, but you'll have prompt-toolkit 3.0.36 which is incompatible.\u001b[0m\r\n",
      "\u001b[31mjupyter-console 6.4.3 has requirement jupyter-client>=7.0.0, but you'll have jupyter-client 5.2.4 which is incompatible.\u001b[0m\r\n"
     ]
    }
   ],
   "source": [
    "!pip -q install ./python"
   ]
  },
  {
   "cell_type": "markdown",
   "metadata": {},
   "source": [
    "The environment is already saved in the Workspace and can be accessed at the file path provided below. "
   ]
  },
  {
   "cell_type": "code",
   "execution_count": 2,
   "metadata": {},
   "outputs": [
    {
     "name": "stderr",
     "output_type": "stream",
     "text": [
      "INFO:unityagents:\n",
      "'Academy' started successfully!\n",
      "Unity Academy name: Academy\n",
      "        Number of Brains: 1\n",
      "        Number of External Brains : 1\n",
      "        Lesson number : 0\n",
      "        Reset Parameters :\n",
      "\t\t\n",
      "Unity brain name: TennisBrain\n",
      "        Number of Visual Observations (per agent): 0\n",
      "        Vector Observation space type: continuous\n",
      "        Vector Observation space size (per agent): 8\n",
      "        Number of stacked Vector Observation: 3\n",
      "        Vector Action space type: continuous\n",
      "        Vector Action space size (per agent): 2\n",
      "        Vector Action descriptions: , \n"
     ]
    }
   ],
   "source": [
    "from unityagents import UnityEnvironment\n",
    "import numpy as np\n",
    "\n",
    "env = UnityEnvironment(file_name=\"/data/Tennis_Linux_NoVis/Tennis\")"
   ]
  },
  {
   "cell_type": "markdown",
   "metadata": {},
   "source": [
    "Environments contain **_brains_** which are responsible for deciding the actions of their associated agents. Here we check for the first brain available, and set it as the default brain we will be controlling from Python."
   ]
  },
  {
   "cell_type": "code",
   "execution_count": 3,
   "metadata": {},
   "outputs": [],
   "source": [
    "# get the default brain\n",
    "brain_name = env.brain_names[0]\n",
    "brain = env.brains[brain_name]"
   ]
  },
  {
   "cell_type": "markdown",
   "metadata": {},
   "source": [
    "### 2. Examine the State and Action Spaces\n",
    "\n",
    "Run the code cell below to print some information about the environment."
   ]
  },
  {
   "cell_type": "code",
   "execution_count": 4,
   "metadata": {},
   "outputs": [
    {
     "name": "stdout",
     "output_type": "stream",
     "text": [
      "Number of agents: 2\n",
      "Size of each action: 2\n",
      "There are 2 agents. Each observes a state with length: 24\n",
      "The state for the first agent looks like: [ 0.          0.          0.          0.          0.          0.          0.\n",
      "  0.          0.          0.          0.          0.          0.          0.\n",
      "  0.          0.         -6.65278625 -1.5        -0.          0.\n",
      "  6.83172083  6.         -0.          0.        ]\n"
     ]
    }
   ],
   "source": [
    "# reset the environment\n",
    "env_info = env.reset(train_mode=True)[brain_name]\n",
    "\n",
    "# number of agents \n",
    "num_agents = len(env_info.agents)\n",
    "print('Number of agents:', num_agents)\n",
    "\n",
    "# size of each action\n",
    "action_size = brain.vector_action_space_size\n",
    "print('Size of each action:', action_size)\n",
    "\n",
    "# examine the state space \n",
    "states = env_info.vector_observations\n",
    "state_size = states.shape[1]\n",
    "print('There are {} agents. Each observes a state with length: {}'.format(states.shape[0], state_size))\n",
    "print('The state for the first agent looks like:', states[0])"
   ]
  },
  {
   "cell_type": "markdown",
   "metadata": {},
   "source": [
    "### 3. Take Random Actions in the Environment\n",
    "\n",
    "In the next code cell, you will learn how to use the Python API to control the agent and receive feedback from the environment.\n",
    "\n",
    "Note that **in this coding environment, you will not be able to watch the agents while they are training**, and you should set `train_mode=True` to restart the environment."
   ]
  },
  {
   "cell_type": "code",
   "execution_count": 5,
   "metadata": {},
   "outputs": [
    {
     "name": "stdout",
     "output_type": "stream",
     "text": [
      "Total score (averaged over agents) this episode: -0.004999999888241291\n",
      "Total score (averaged over agents) this episode: -0.004999999888241291\n",
      "Total score (averaged over agents) this episode: -0.004999999888241291\n",
      "Total score (averaged over agents) this episode: -0.004999999888241291\n",
      "Total score (averaged over agents) this episode: -0.004999999888241291\n"
     ]
    }
   ],
   "source": [
    "for i in range(5):                                         # play game for 5 episodes\n",
    "    env_info = env.reset(train_mode=False)[brain_name]     # reset the environment    \n",
    "    states = env_info.vector_observations                  # get the current state (for each agent)\n",
    "    scores = np.zeros(num_agents)                          # initialize the score (for each agent)\n",
    "    while True:\n",
    "        actions = np.random.randn(num_agents, action_size) # select an action (for each agent)\n",
    "        actions = np.clip(actions, -1, 1)                  # all actions between -1 and 1\n",
    "        env_info = env.step(actions)[brain_name]           # send all actions to tne environment\n",
    "        next_states = env_info.vector_observations         # get next state (for each agent)\n",
    "        rewards = env_info.rewards                         # get reward (for each agent)\n",
    "        dones = env_info.local_done                        # see if episode finished\n",
    "        scores += env_info.rewards                         # update the score (for each agent)\n",
    "        states = next_states                               # roll over states to next time step\n",
    "        if np.any(dones):                                  # exit loop if episode finished\n",
    "            break\n",
    "    print('Total score (averaged over agents) this episode: {}'.format(np.mean(scores)))"
   ]
  },
  {
   "cell_type": "markdown",
   "metadata": {},
   "source": [
    "### 4. It's Your Turn!\n",
    "\n",
    "Now it's your turn to train your own agent to solve the environment!  A few **important notes**:\n",
    "- When training the environment, set `train_mode=True`, so that the line for resetting the environment looks like the following:\n",
    "```python\n",
    "env_info = env.reset(train_mode=True)[brain_name]\n",
    "```\n",
    "- To structure your work, you're welcome to work directly in this Jupyter notebook, or you might like to start over with a new file!  You can see the list of files in the workspace by clicking on **_Jupyter_** in the top left corner of the notebook.\n",
    "- In this coding environment, you will not be able to watch the agents while they are training.  However, **_after training the agents_**, you can download the saved model weights to watch the agents on your own machine! "
   ]
  },
  {
   "cell_type": "code",
   "execution_count": 6,
   "metadata": {},
   "outputs": [],
   "source": [
    "from ddpg_agent import Agent\n",
    "from collections import deque\n",
    "import pandas as pd\n",
    "import torch\n",
    "\n",
    "import matplotlib.pyplot as plt\n",
    "from workspace_utils import active_session"
   ]
  },
  {
   "cell_type": "code",
   "execution_count": 7,
   "metadata": {},
   "outputs": [],
   "source": [
    "m_agents = Agent(state_size = state_size, action_size = action_size, n_agents=2, random_seed = 0)"
   ]
  },
  {
   "cell_type": "code",
   "execution_count": 8,
   "metadata": {},
   "outputs": [],
   "source": [
    "def save_checkpoint(file='checkpoint.pt'):\n",
    "    \"\"\" Save the model \"\"\"\n",
    "    checkpoint = {\n",
    "        'actor_dict': m_agents.actor_local.state_dict(),\n",
    "        'critic_dict': m_agents.critic_local.state_dict()\n",
    "        }\n",
    "    print('\\nSaving model ...', end=' ')\n",
    "    torch.save(checkpoint, file)\n",
    "    print('done.')"
   ]
  },
  {
   "cell_type": "code",
   "execution_count": 9,
   "metadata": {},
   "outputs": [],
   "source": [
    "def ddpg(n_episodes=3000, checkpoint_file='checkpoint.pt', n_agents = 2, print_every=100, max_t=1000):\n",
    "        \"\"\"Deep Deterministic Policy Gradients (DDPG).\n",
    "        Params\n",
    "        ======\n",
    "            n_episodes (int): maximum number of training episodes\n",
    "            checkpoint_file(str): model file\n",
    "        \"\"\"  \n",
    "        \n",
    "        scores_deque = deque(maxlen=100)\n",
    "        scores_all = []\n",
    "\n",
    "        for i_episode in range(1, n_episodes+1):\n",
    "\n",
    "            env_info = env.reset(train_mode=True)[brain_name]      \n",
    "            states = env_info.vector_observations                  \n",
    "            scores = np.zeros(n_agents)                            \n",
    "\n",
    "            m_agents.reset()                                       \n",
    "\n",
    "#             for t in range(max_t):\n",
    "            while True:\n",
    "                actions = m_agents.act(states)                     \n",
    "                env_info = env.step(actions)[brain_name]           \n",
    "                next_states = env_info.vector_observations         \n",
    "                rewards = env_info.rewards                         \n",
    "                dones = env_info.local_done \n",
    "                \n",
    "                m_agents.step(states, actions, rewards, next_states, dones)\n",
    "                states = next_states\n",
    "                scores += rewards\n",
    "            \n",
    "                if any(dones):\n",
    "                    break\n",
    "\n",
    "            score = np.max(scores)                                 # take max of agent scores\n",
    "            scores_deque.append(score)\n",
    "            score_average = np.mean(scores_deque)\n",
    "            scores_all.append(score)\n",
    "\n",
    "            print('\\rEpisode {}, Average Score: {:.2f}, Max: {:.2f}, Min: {:.2f}, Avg: {:.2f}'\\\n",
    "                  .format(i_episode, score_average, \n",
    "                          np.max(scores_all[-print_every:]), \n",
    "                          np.min(scores_all[-print_every:]), \n",
    "                          np.mean(scores_all[-print_every:])), end=\"\") \n",
    "            \n",
    "            # Every n episodes print score\n",
    "            if i_episode % print_every == 0:\n",
    "                print('\\rEpisode {}, Average Score: {:.2f}, Max: {:.2f}, Min: {:.2f}, Avg: {:.2f}'\\\n",
    "                  .format(i_episode, score_average, \n",
    "                          np.max(scores_all[-print_every:]), \n",
    "                          np.min(scores_all[-print_every:]), \n",
    "                          np.mean(scores_all[-print_every:])))        \n",
    "\n",
    "            # The environment is considered solved, \n",
    "            # when the scores average (over 100 episodes) is at least +0.5.\n",
    "            if score_average >= 0.5:\n",
    "                print('\\n\\nEnvironment solved in {:d} episodes!\\t' \\\n",
    "                  'Average Score: {:.3f}'\n",
    "                  .format(i_episode, score_average))\n",
    "                save_checkpoint(checkpoint_file)                \n",
    "                break            \n",
    "\n",
    "        return scores_all       "
   ]
  },
  {
   "cell_type": "code",
   "execution_count": 10,
   "metadata": {},
   "outputs": [
    {
     "name": "stdout",
     "output_type": "stream",
     "text": [
      "Episode 100, Average Score: 0.00, Max: 0.10, Min: 0.00, Avg: 0.00\n",
      "Episode 200, Average Score: 0.00, Max: 0.10, Min: 0.00, Avg: 0.00\n",
      "Episode 300, Average Score: 0.00, Max: 0.00, Min: 0.00, Avg: 0.00\n",
      "Episode 400, Average Score: 0.03, Max: 0.20, Min: 0.00, Avg: 0.03\n",
      "Episode 500, Average Score: 0.00, Max: 0.09, Min: 0.00, Avg: 0.00\n",
      "Episode 600, Average Score: 0.00, Max: 0.00, Min: 0.00, Avg: 0.00\n",
      "Episode 700, Average Score: 0.00, Max: 0.09, Min: 0.00, Avg: 0.00\n",
      "Episode 800, Average Score: 0.02, Max: 0.20, Min: 0.00, Avg: 0.02\n",
      "Episode 900, Average Score: 0.11, Max: 0.60, Min: 0.00, Avg: 0.11\n",
      "Episode 1000, Average Score: 0.33, Max: 2.60, Min: 0.00, Avg: 0.33\n",
      "Episode 1100, Average Score: 0.34, Max: 1.50, Min: 0.00, Avg: 0.34\n",
      "Episode 1200, Average Score: 0.37, Max: 2.10, Min: 0.00, Avg: 0.37\n",
      "Episode 1300, Average Score: 0.48, Max: 2.60, Min: 0.00, Avg: 0.48\n",
      "Episode 1348, Average Score: 0.51, Max: 2.50, Min: 0.00, Avg: 0.51\n",
      "\n",
      "Environment solved in 1348 episodes!\tAverage Score: 0.509\n",
      "\n",
      "Saving model ... done.\n"
     ]
    }
   ],
   "source": [
    "with active_session():\n",
    "    # do long-running work here\n",
    "    scores_all = ddpg()"
   ]
  },
  {
   "cell_type": "code",
   "execution_count": 12,
   "metadata": {},
   "outputs": [
    {
     "data": {
      "image/png": "[encoded data removed]",
      "text/plain": [
       "<matplotlib.figure.Figure at 0x7fd3c5659d68>"
      ]
     },
     "metadata": {
      "needs_background": "light"
     },
     "output_type": "display_data"
    }
   ],
   "source": [
    "fig = plt.figure()\n",
    "ax = fig.add_subplot(111)\n",
    "plt.plot(np.arange(1, len(scores_all)+1), scores_all)\n",
    "\n",
    "rolling_window = 100\n",
    "rolling_mean = pd.Series(scores_all).rolling(rolling_window).mean()\n",
    "plt.plot(rolling_mean);\n",
    "\n",
    "plt.ylabel('Score')\n",
    "plt.xlabel('Episode #')\n",
    "plt.show()"
   ]
  },
  {
   "cell_type": "code",
   "execution_count": null,
   "metadata": {},
   "outputs": [],
   "source": [
    "env.close()"
   ]
  },
  {
   "cell_type": "markdown",
   "metadata": {},
   "source": [
    "When finished, you can close the environment."
   ]
  }
 ],
 "metadata": {
  "kernelspec": {
   "display_name": "Python 3",
   "language": "python",
   "name": "python3"
  },
  "language_info": {
   "codemirror_mode": {
    "name": "ipython",
    "version": 3
   },
   "file_extension": ".py",
   "mimetype": "text/x-python",
   "name": "python",
   "nbconvert_exporter": "python",
   "pygments_lexer": "ipython3",
   "version": "3.6.3"
  }
 },
 "nbformat": 4,
 "nbformat_minor": 2
}
